{
 "cells": [
  {
   "cell_type": "code",
   "execution_count": 2,
   "metadata": {},
   "outputs": [],
   "source": [
    "import requests\n",
    "from bs4 import BeautifulSoup\n",
    "import pandas as pd"
   ]
  },
  {
   "cell_type": "code",
   "execution_count": 5,
   "metadata": {},
   "outputs": [
    {
     "name": "stdout",
     "output_type": "stream",
     "text": [
      "Sucesso: <Response [200]>\n"
     ]
    }
   ],
   "source": [
    "link = 'https://www.imdb.com/chart/top/'\n",
    "\n",
    "headers = {'User-Agent': 'Mozilla/5.0 (Windows NT 10.0; Win64; x64) AppleWebKit/537.36 (KHTML, like Gecko) Chrome/111.0.0.0 Safari/537.36'}\n",
    "\n",
    "res = requests.get(link, headers=headers)\n",
    "\n",
    "if res.status_code == 200:\n",
    "\n",
    "    print(f\"Sucesso: {res}\")\n",
    "    soup = BeautifulSoup(res.text, 'html.parser')\n",
    "else:\n",
    "    print(f\"Erro de requisição: {res.status_code}\")"
   ]
  },
  {
   "cell_type": "code",
   "execution_count": 32,
   "metadata": {},
   "outputs": [],
   "source": [
    "dados_imdb = soup.find_all('div', class_=\"sc-b189961a-0 hBZnfJ cli-children\")"
   ]
  },
  {
   "cell_type": "code",
   "execution_count": 33,
   "metadata": {},
   "outputs": [],
   "source": [
    "info_imdb = []\n",
    "\n",
    "for num, filme in enumerate(dados_imdb):\n",
    "    nome_filme = filme.find('h3',  class_='ipc-title__text').text.strip()\n",
    "    nota_filme = filme.find('span', class_='ipc-rating-star ipc-rating-star--base ipc-rating-star--imdb ratingGroup--imdb-rating').text.strip()\n",
    "\n",
    "    info_imdb.append({\n",
    "        'nome_filme': nome_filme,\n",
    "        'nota_filme': nota_filme\n",
    "    })"
   ]
  },
  {
   "cell_type": "code",
   "execution_count": 34,
   "metadata": {},
   "outputs": [],
   "source": [
    "df_imdb = pd.DataFrame(info_imdb)\n",
    "df_imdb.to_csv('filmes_imdb.csv', sep='|', index=False)"
   ]
  },
  {
   "cell_type": "markdown",
   "metadata": {},
   "source": [
    "Referências: \n",
    "\n",
    "https://www.w3schools.com/tags/ref_httpmessages.asp\n",
    "\n",
    "https://www.zenrows.com/blog/python-requests-user-agent#set-user-agent\n",
    "\n",
    "https://www.digitalocean.com/community/tutorials/pandas-to_csv-convert-dataframe-to-csv\n"
   ]
  }
 ],
 "metadata": {
  "kernelspec": {
   "display_name": "Python 3",
   "language": "python",
   "name": "python3"
  },
  "language_info": {
   "codemirror_mode": {
    "name": "ipython",
    "version": 3
   },
   "file_extension": ".py",
   "mimetype": "text/x-python",
   "name": "python",
   "nbconvert_exporter": "python",
   "pygments_lexer": "ipython3",
   "version": "3.12.2"
  }
 },
 "nbformat": 4,
 "nbformat_minor": 2
}
