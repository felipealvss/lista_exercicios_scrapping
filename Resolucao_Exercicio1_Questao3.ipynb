{
 "cells": [
  {
   "cell_type": "markdown",
   "metadata": {},
   "source": [
    "Requisições:"
   ]
  },
  {
   "cell_type": "code",
   "execution_count": 23,
   "metadata": {},
   "outputs": [],
   "source": [
    "import requests\n",
    "from bs4 import BeautifulSoup\n",
    "import os"
   ]
  },
  {
   "cell_type": "code",
   "execution_count": 2,
   "metadata": {},
   "outputs": [
    {
     "name": "stdout",
     "output_type": "stream",
     "text": [
      "Sucesso: <Response [200]>\n"
     ]
    }
   ],
   "source": [
    "# Dados cachorro\n",
    "\n",
    "link_cachorro = 'https://unsplash.com/pt-br/s/fotografias/dashound'\n",
    "\n",
    "res_dog = requests.get(link_cachorro)\n",
    "\n",
    "if res_dog.status_code == 200:\n",
    "    print(f\"Sucesso: {res_dog}\")\n",
    "    soup_dog = BeautifulSoup(res_dog.text, 'html.parser')\n",
    "else:\n",
    "    print(f\"Erro de requisição: {res_dog.status_code}\")"
   ]
  },
  {
   "cell_type": "code",
   "execution_count": 3,
   "metadata": {},
   "outputs": [
    {
     "name": "stdout",
     "output_type": "stream",
     "text": [
      "Sucesso: <Response [200]>\n"
     ]
    }
   ],
   "source": [
    "# Dados gato\n",
    "\n",
    "link_gato = 'https://unsplash.com/pt-br/s/fotografias/gato-dormido'\n",
    "\n",
    "res_cat = requests.get(link_gato)\n",
    "\n",
    "if res_cat.status_code == 200:\n",
    "    print(f\"Sucesso: {res_cat}\")\n",
    "    soup_cat = BeautifulSoup(res_cat.text, 'html.parser')\n",
    "else:\n",
    "    print(f\"Erro de requisição: {res_cat.status_code}\")"
   ]
  },
  {
   "cell_type": "code",
   "execution_count": 4,
   "metadata": {},
   "outputs": [],
   "source": [
    "lista_dog = soup_dog.find_all('div', class_='WxXog')\n",
    "lista_cat = soup_cat.find_all('div', class_='WxXog')"
   ]
  },
  {
   "cell_type": "code",
   "execution_count": 8,
   "metadata": {},
   "outputs": [],
   "source": [
    "links_dog = []\n",
    "\n",
    "for item in lista_dog:\n",
    "    link = item.find('img')['src']\n",
    "    \n",
    "    links_dog.append(link)\n",
    "\n",
    "links_cat = []\n",
    "\n",
    "for item in lista_cat:\n",
    "    link = item.find('img')['src']\n",
    "    \n",
    "    links_cat.append(link)"
   ]
  },
  {
   "cell_type": "markdown",
   "metadata": {},
   "source": [
    "Verifica links:"
   ]
  },
  {
   "cell_type": "code",
   "execution_count": 15,
   "metadata": {},
   "outputs": [
    {
     "data": {
      "text/plain": [
       "['https://media.istockphoto.com/id/1467886857/pt/foto/portrait-of-two-dachshund-dogs-on-leash-in-public-park.webp?b=1&s=170667a&w=0&k=20&c=oype-Dt3xuHYpI5qmlaYInH9VBM8CSB8ewWbrDesFcY=',\n",
       " 'https://media.istockphoto.com/id/1455075216/pt/foto/teckel-or-dachshund-having-fun.webp?b=1&s=170667a&w=0&k=20&c=QlGwXC--ZguDHUNDHGGlGPb5OCqH9-aT5J8Lq6YXxiI=']"
      ]
     },
     "execution_count": 15,
     "metadata": {},
     "output_type": "execute_result"
    }
   ],
   "source": [
    "links_dog[:2]"
   ]
  },
  {
   "cell_type": "code",
   "execution_count": 14,
   "metadata": {},
   "outputs": [
    {
     "data": {
      "text/plain": [
       "['https://media.istockphoto.com/id/512202044/pt/foto/felino.webp?b=1&s=170667a&w=0&k=20&c=zfzO8PBqYsD0vkwYwi-TQzytiKxj-5rcxWIBpqXb9hQ=',\n",
       " 'https://media.istockphoto.com/id/1325997570/pt/foto/bengal-cat-lying-on-sofa-and-smiling.webp?b=1&s=170667a&w=0&k=20&c=d9kfsrF-YjvT2ZvJZJDV-xk6mEcIP_McOE19KUUab9Y=']"
      ]
     },
     "execution_count": 14,
     "metadata": {},
     "output_type": "execute_result"
    }
   ],
   "source": [
    "links_cat[:2]"
   ]
  },
  {
   "cell_type": "markdown",
   "metadata": {},
   "source": [
    "Dump de imagens:"
   ]
  },
  {
   "cell_type": "code",
   "execution_count": 28,
   "metadata": {},
   "outputs": [],
   "source": [
    "# Define diretorios\n",
    "dir_cachorros = 'dataset/cachorros'\n",
    "dir_gatos = 'dataset/gatos'"
   ]
  },
  {
   "cell_type": "code",
   "execution_count": 30,
   "metadata": {},
   "outputs": [],
   "source": [
    "# Processo para salvar imagens dos cachorros\n",
    "\n",
    "for num, link in enumerate(links_dog):\n",
    "\n",
    "    link_salvar = links_dog[num]\n",
    "    res = requests.get(link_salvar)\n",
    "\n",
    "    try:\n",
    "        rota_salvar = os.path.join(dir_cachorros, f'imagem_{num+1}.jpg')\n",
    "\n",
    "        with open(rota_salvar, 'wb') as f:\n",
    "            f.write(res.content)\n",
    "    except:\n",
    "        print(f'Fim de salvamento. Status da ultima requisição: {res.status_code}')"
   ]
  },
  {
   "cell_type": "code",
   "execution_count": 31,
   "metadata": {},
   "outputs": [],
   "source": [
    "# Processo para salvar imagens dos gatos\n",
    "\n",
    "for num, link in enumerate(links_cat):\n",
    "\n",
    "    link_salvar = links_cat[num]\n",
    "    res = requests.get(link_salvar)\n",
    "\n",
    "    try:\n",
    "        rota_salvar = os.path.join(dir_gatos, f'imagem_{num+1}.jpg')\n",
    "\n",
    "        with open(rota_salvar, 'wb') as f:\n",
    "            f.write(res.content)\n",
    "    except:\n",
    "        print(f'Fim de salvamento. Status da ultima requisição: {res.status_code}')"
   ]
  },
  {
   "cell_type": "markdown",
   "metadata": {},
   "source": [
    "Referências: \n",
    "\n",
    "https://unsplash.com/pt-br/s/fotografias/dashound\n",
    "\n",
    "https://unsplash.com/pt-br/s/fotografias/gato-dormido\n",
    "\n",
    "https://www.geeksforgeeks.org/create-a-directory-in-python/\n",
    "\n",
    "https://blog.finxter.com/5-easy-ways-to-download-an-image-from-a-url-in-python/#:~:text=To%20download%20an%20image%20in,you%20the%20binary%20image%20content.\n",
    "\n",
    "https://www.alura.com.br/artigos/tratamento-de-excecoes-no-python?utm_term=&utm_campaign=%5BSearch%5D+%5BPerformance%5D+-+Dynamic+Search+Ads+-+Artigos+e+Conteúdos&utm_source=adwords&utm_medium=ppc&hsa_acc=7964138385&hsa_cam=11384329873&hsa_grp=111087461203&hsa_ad=687448474447&hsa_src=g&hsa_tgt=dsa-2276348409543&hsa_kw=&hsa_mt=&hsa_net=adwords&hsa_ver=3&gad_source=1&gclid=CjwKCAjw_e2wBhAEEiwAyFFFowZlJM9v61OOBbNsFdPrUiN6jNZGZu70Rnpxi8UwUWXC1_zn3_-b2RoCjpQQAvD_BwE"
   ]
  }
 ],
 "metadata": {
  "kernelspec": {
   "display_name": "Python 3",
   "language": "python",
   "name": "python3"
  },
  "language_info": {
   "codemirror_mode": {
    "name": "ipython",
    "version": 3
   },
   "file_extension": ".py",
   "mimetype": "text/x-python",
   "name": "python",
   "nbconvert_exporter": "python",
   "pygments_lexer": "ipython3",
   "version": "3.12.2"
  }
 },
 "nbformat": 4,
 "nbformat_minor": 2
}
